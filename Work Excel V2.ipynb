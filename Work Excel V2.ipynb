{
 "cells": [
  {
   "cell_type": "code",
   "execution_count": 331,
   "metadata": {},
   "outputs": [],
   "source": [
    "import re\n",
    "import pandas as pd"
   ]
  },
  {
   "cell_type": "code",
   "execution_count": 332,
   "metadata": {},
   "outputs": [],
   "source": [
    "frm = \"from\"\n",
    "joi = \"join\"\n",
    "pars = 'select'\n",
    "eror = ['Null.Error']\n",
    "esql = ['-', '-', '-', '-', '-', '-', '-', '-', '-', '-', '-', '-', '-', '-', '-', '-', '-', '-', '-', '-', '-', '-', '-','-', '-', '-', '-', '-', '-', '-', '-', '-', '-', '-', '-', '-', '-', '-', '-', '-', '-', '-', '-', '-', '-', '-','-', '-', '-', '-', '-', '-', '-', '-', '-', '-', '-', '-', '-', '-', '-', '-', '-', '-', '-', '-', '-', '-', '-','-', '-', '-', '-', '-', '-', '-', '-', '-', '-', '-', '-', '-', '-', '-', '-', '-', '-', '-', '-', '-', '-', '-','-', '-', '-', '-', '-', '-', '-', '-', '-', '-', '-', '-', '-', '-', '-', '-', '-', '-', '-', '-', '-', '-', '-','-', '-', '-', '-', '-', '-', '-', '-', '-', '-', '-', '-', '-', '-', '-', '-', '-', '-', '-', '-', '-', '-', '-','-', '-', '-', '-', '-', '-', '-', '-', '-', '-', '-', '-', '-', '-', '-', '-', '-', '-', '-', '-', '-', '-', '-','-', '-', '-', '-', '-', '-', '-', '-', '-', '-', '-', '-', '-', '-', '-', '-', '-', '-', '-', '-', '-', '-', '-','-', '-', '-', '-', '-', '-', '-', '-', '-', '-', '-', '-', '-', '-', '-', '-', '-', '-', '-', '-', '-', '-', '-']\n",
    "a = 1"
   ]
  },
  {
   "cell_type": "code",
   "execution_count": 333,
   "metadata": {},
   "outputs": [],
   "source": [
    "fs = pd.read_excel('ФОК - S2T v8.xlsx', sheet_name='S2T') # Перевод листа S2T экселя в датасет\n",
    "ss = pd.read_excel('ФОК - S2T v8.xlsx', sheet_name='Additional objects') # Перевод листа Additional objects экселя в датасет"
   ]
  },
  {
   "cell_type": "code",
   "execution_count": 334,
   "metadata": {},
   "outputs": [],
   "source": [
    "tsi = fs['T-src-schema'].tolist() # делаем из столбца отдельный список\n",
    "tss = fs['T-src'].tolist() # делаем из столбца отдельный список\n",
    "ts = ss['T-src'].tolist() # делаем из столбца отдельный список\n",
    "sql = ss['T-sql'].tolist() # делаем из столбца отдельный список"
   ]
  },
  {
   "cell_type": "code",
   "execution_count": 335,
   "metadata": {},
   "outputs": [],
   "source": [
    "while a < len(sql):\n",
    "    data = [] # список для всех слов\n",
    "    datac = [] # список для нужных слов\n",
    "    fresh = sql[a] # из текста делаем список\n",
    "    fresh = fresh.lower()\n",
    "    fresh = fresh.replace('\\n', ' ')\n",
    "    fresh = fresh.replace('(', '')\n",
    "    fresh = fresh.replace(')', '')\n",
    "    fresh = fresh.replace('     ', ' ')\n",
    "    fresh = fresh.replace('    ', ' ')\n",
    "    fresh = fresh.replace('   ', ' ')\n",
    "    fresh = fresh.replace('  ', ' ')\n",
    "    freshc = fresh.split(' ')\n",
    "    for i in range(len(freshc)):\n",
    "        if (freshc[i] == frm or freshc[i] == joi) and freshc[i+1] != pars: # выбираем слова по паттерну\n",
    "            datac.append(freshc[i+1]) # записываем слова в список они с точкой\n",
    "    if len(datac) != 0:\n",
    "        esql[a]= datac # новый список sql где каждый элемент это список слов из запроса\n",
    "    else:\n",
    "        esql[a] = eror\n",
    "    a = a + 1 # увеличиваем переменную для цикла"
   ]
  },
  {
   "cell_type": "code",
   "execution_count": 336,
   "metadata": {},
   "outputs": [],
   "source": [
    "for i in range(len(tss)): #Цикл перебора всех значений одного любого столбца S2T \n",
    "    b = 0 # переменная счетчик для запоминание позиции additional objects\n",
    "    for j in range(len(ts)): # цикл для проверки совпадения и запоминания значения позиции\n",
    "        if tss[i] == ts[j]:\n",
    "            b = j\n",
    "    if b != 0: # проверка что переменная не ноль так как нулевая позиция из начальная и при нахождении совпадений она не может быть\n",
    "        c = [] \n",
    "        d = [] # два списка для сохранения слов после сплита\n",
    "        h = 1\n",
    "        for h in range(len(esql[b])): # сам цикл сплита и разделения на два списка\n",
    "            e = re.split(\"\\.\", esql[b][h])\n",
    "            e.append('Nothing')\n",
    "            if e[0] not in c:\n",
    "                c.append(e[0])\n",
    "            if e[1] not in d:\n",
    "                d.append(e[1])\n",
    "            if d.count('Nothing') != 0:\n",
    "                d.remove('Nothing')\n",
    "        tsi[i] = c # присвоение значения списка одной ячейке\n",
    "        tss[i] = d # присвоение значения списка одной ячейке"
   ]
  },
  {
   "cell_type": "code",
   "execution_count": 337,
   "metadata": {},
   "outputs": [],
   "source": [
    "df = pd.DataFrame({'tsi':tsi, 'tss':tss}) # создаем датафрейм из полученных списков\n",
    "df.to_excel('Test.xlsx') # закидываем в эксель с которого потом сталбиками скопировать можно"
   ]
  },
  {
   "cell_type": "code",
   "execution_count": null,
   "metadata": {},
   "outputs": [],
   "source": []
  }
 ],
 "metadata": {
  "kernelspec": {
   "display_name": "Python 3",
   "language": "python",
   "name": "python3"
  },
  "language_info": {
   "codemirror_mode": {
    "name": "ipython",
    "version": 3
   },
   "file_extension": ".py",
   "mimetype": "text/x-python",
   "name": "python",
   "nbconvert_exporter": "python",
   "pygments_lexer": "ipython3",
   "version": "3.7.6"
  }
 },
 "nbformat": 4,
 "nbformat_minor": 4
}
